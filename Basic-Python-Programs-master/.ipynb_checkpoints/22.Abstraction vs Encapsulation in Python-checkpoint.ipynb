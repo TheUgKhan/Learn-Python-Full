{
 "cells": [
  {
   "cell_type": "markdown",
   "metadata": {},
   "source": [
    "# Abstraction: \n",
    "\n",
    "Data abstraction refers to providing only essential information about the data to the outside world, hiding the background details or implementation.\n",
    "\n",
    "Encapsulation: — Information hiding.\n",
    "\n",
    "Abstraction: — Implementation hiding.\n",
    "\n",
    "So Abstracting something means to give names to things, so that the name captures the core of what a function or a whole program does.\n",
    "If I tell you to draw a square (on paper), you immediately know what to do:\n",
    "<ul>\n",
    "<li>\n",
    "    draw a square => draw a rectangle with all sides of the same length.\n",
    "</li>\n",
    "</ul>\n",
    "You can do this without further questions because you know by heart what a square is, without me telling you step by step. Here, the word square is the abstraction of \"draw a rectangle with all sides of the same length\".\n",
    "\n",
    "The second power of abstractions comes from the nice property of composability: once you have defined abstractions, you can compose two or more abstractions to form a new, larger abstraction: say you are tired of drawing squares, but you really want to draw a house. Assume we have already defined the triangle, so then we can define:\n",
    "<ul>\n",
    "<li>\n",
    "    house => draw a square with a triangle on top of it\n",
    "</li>\n",
    "</ul>\n",
    "Next, you want a village:\n",
    "<ul>\n",
    "<li>\n",
    "    village => draw multiple houses next to each other\n",
    "</li>\n",
    "</ul>\n",
    "Oh wait, we want a city -- and we have a new concept street:\n",
    "<ul>\n",
    "<li>\n",
    "    city => draw many villages close to each other, fill empty spaces with more houses, but leave room for streets\n",
    "</li>\n",
    "<li>    \n",
    "    street => (some definition of street)\n",
    "</li>\n",
    "</ul>\n",
    "and so on...\n",
    "\n",
    "In programming, abstractions can make or break productivity. That's why often times, commonly used functions are collected into libraries which can be reused by others. This means you don't have to worry about the details, you only need to understand how to use the ready-made abstractions. Obviously that should make things easier for you, so you can work faster and thus be more productive"
   ]
  },
  {
   "cell_type": "markdown",
   "metadata": {},
   "source": [
    "# Encapsulation:\n",
    "Encapsulation is the packing of data and functions operating on that data into a single component and restricting the access to some of the object’s components.\n",
    "Encapsulation means that the internal representation of an object is generally hidden from view outside of the object’s definition.\n",
    "\n",
    "A class is an example of encapsulation as it encapsulates all the data that is member functions,variables etc.\n",
    "\n",
    "Python follows the philosophy of we’re all adults here with respect to hiding attributes and methods; i.e. you should trust the other programmers who will use your classes. Use plain attributes whenever possible.\n",
    "\n",
    "You might be tempted to use getter and setter methods instead of attributes(we will discuss getter and setter methods in upcoming lectures), but the only reason to use getters and setters is so you can change the implementation later if you need to. However, Python 2.2 and later allows you to do this with properties:"
   ]
  },
  {
   "cell_type": "markdown",
   "metadata": {},
   "source": [
    "# Public members:\n",
    "Public members are shared with everyone i.e. inside and outside the class. All members in a Python class are public by default. Any member can be accessed from outside the class environment. \n",
    "\n",
    "# Protected members:\n",
    "\n",
    "Protected member is (in C++ and Java) accessible only from within the class and it’s subclasses. How to accomplish this in Python? The answer is — by convention. By prefixing the name of your member with a single underscore, you’re telling others “don’t touch this, unless you’re a subclass”.\n",
    "\n",
    "# Private members:\n",
    "\n",
    "But there is a method in Python to define Private: Add “__” (double underscore ) in front of the variable and function name can hide them when accessing them from out of class.\n",
    "\n",
    "Python doesn’t have real private methods, so one underline in the beginning of a method or attribute means you shouldn’t access this method.But this is just convention.I can still access the the variables with single underscore.\n",
    "\n",
    "Also when using double underscore (__).we can still access the private variables"
   ]
  },
  {
   "cell_type": "code",
   "execution_count": 1,
   "metadata": {},
   "outputs": [
    {
     "name": "stdout",
     "output_type": "stream",
     "text": [
      "Jon\n",
      "Jon Snow\n"
     ]
    },
    {
     "ename": "AttributeError",
     "evalue": "'Person' object has no attribute '__lastname'",
     "output_type": "error",
     "traceback": [
      "\u001b[0;31m---------------------------------------------------------------------------\u001b[0m",
      "\u001b[0;31mAttributeError\u001b[0m                            Traceback (most recent call last)",
      "\u001b[0;32m<ipython-input-1-bd70e84d44cc>\u001b[0m in \u001b[0;36m<module>\u001b[0;34m()\u001b[0m\n\u001b[1;32m     12\u001b[0m \u001b[0mprint\u001b[0m\u001b[0;34m(\u001b[0m\u001b[0mP\u001b[0m\u001b[0;34m.\u001b[0m\u001b[0mname\u001b[0m\u001b[0;34m)\u001b[0m\u001b[0;34m\u001b[0m\u001b[0;34m\u001b[0m\u001b[0m\n\u001b[1;32m     13\u001b[0m \u001b[0mprint\u001b[0m\u001b[0;34m(\u001b[0m\u001b[0mP\u001b[0m\u001b[0;34m.\u001b[0m\u001b[0mPrintName\u001b[0m\u001b[0;34m(\u001b[0m\u001b[0;34m)\u001b[0m\u001b[0;34m)\u001b[0m\u001b[0;34m\u001b[0m\u001b[0;34m\u001b[0m\u001b[0m\n\u001b[0;32m---> 14\u001b[0;31m \u001b[0mprint\u001b[0m\u001b[0;34m(\u001b[0m\u001b[0mP\u001b[0m\u001b[0;34m.\u001b[0m\u001b[0m__lastname\u001b[0m\u001b[0;34m)\u001b[0m\u001b[0;34m\u001b[0m\u001b[0;34m\u001b[0m\u001b[0m\n\u001b[0m\u001b[1;32m     15\u001b[0m \u001b[0;31m#AttributeError: 'Person' object has no attribute '__lastname'\u001b[0m\u001b[0;34m\u001b[0m\u001b[0;34m\u001b[0m\u001b[0;34m\u001b[0m\u001b[0m\n",
      "\u001b[0;31mAttributeError\u001b[0m: 'Person' object has no attribute '__lastname'"
     ]
    }
   ],
   "source": [
    "class Person:\n",
    "    def __init__(self,name,lastName): \n",
    "        self.name = name\n",
    "        #Private member\n",
    "        self.__lastname = lastName\n",
    "    \n",
    "    def PrintName(self):\n",
    "        return self.name +' ' + self.__lastname\n",
    "    \n",
    "#Outside class    \n",
    "P = Person(\"Jon\",\"Snow\")\n",
    "print(P.name)\n",
    "print(P.PrintName())\n",
    "print(P.__lastname)\n",
    "#AttributeError: 'Person' object has no attribute '__lastname'"
   ]
  },
  {
   "cell_type": "code",
   "execution_count": 2,
   "metadata": {},
   "outputs": [],
   "source": [
    "# WE will see more examples in the future notebooks, it was just an introduction to these concepts"
   ]
  }
 ],
 "metadata": {
  "kernelspec": {
   "display_name": "Python 3",
   "language": "python",
   "name": "python3"
  },
  "language_info": {
   "codemirror_mode": {
    "name": "ipython",
    "version": 3
   },
   "file_extension": ".py",
   "mimetype": "text/x-python",
   "name": "python",
   "nbconvert_exporter": "python",
   "pygments_lexer": "ipython3",
   "version": "3.7.6"
  }
 },
 "nbformat": 4,
 "nbformat_minor": 4
}
