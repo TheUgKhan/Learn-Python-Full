{
 "cells": [
  {
   "cell_type": "markdown",
   "metadata": {},
   "source": [
    "# Variables\n",
    "Method of Creating a variable in python is straight forward.Just type name and value of the variable and python will interpret it\n",
    "\n"
   ]
  },
  {
   "cell_type": "code",
   "execution_count": 1,
   "metadata": {},
   "outputs": [],
   "source": [
    "#Creating String\n",
    "var1 = \"Python\"\n",
    "#Creating an integer\n",
    "var2 = 123\n",
    "#Creating a float\n",
    "var3 = 2.32\n",
    "#Creating another string\n",
    "var4 = \"12\"\n"
   ]
  },
  {
   "cell_type": "markdown",
   "metadata": {},
   "source": [
    "#  TypeCasting & Printing\n",
    "TypeCasting means to change type of variable from one type to another e.g. Converting an integer to float"
   ]
  },
  {
   "cell_type": "code",
   "execution_count": 2,
   "metadata": {},
   "outputs": [],
   "source": [
    "var5 = int(var4)"
   ]
  },
  {
   "cell_type": "code",
   "execution_count": 3,
   "metadata": {},
   "outputs": [
    {
     "name": "stdout",
     "output_type": "stream",
     "text": [
      "Your number is  12\n"
     ]
    }
   ],
   "source": [
    "print(\"Your number is \",var5)"
   ]
  },
  {
   "cell_type": "code",
   "execution_count": 6,
   "metadata": {},
   "outputs": [
    {
     "name": "stdout",
     "output_type": "stream",
     "text": [
      "Your number is:12\n"
     ]
    }
   ],
   "source": [
    "#Default separator between prnted characters is space(' ') , we can change it like\n",
    "print(\"Your number is\",var5,sep=\":\")"
   ]
  },
  {
   "cell_type": "code",
   "execution_count": 7,
   "metadata": {},
   "outputs": [
    {
     "name": "stdout",
     "output_type": "stream",
     "text": [
      "Your number is: 12\n"
     ]
    }
   ],
   "source": [
    "#We can also use F-Strings that are fast way to print\n",
    "print(f\"Your number is: {var5}\")"
   ]
  },
  {
   "cell_type": "code",
   "execution_count": 9,
   "metadata": {},
   "outputs": [
    {
     "name": "stdout",
     "output_type": "stream",
     "text": [
      "var1:Python , var2:123, var3:2.32, var4:12\n"
     ]
    }
   ],
   "source": [
    "print(f\"var1:{var1} , var2:{var2}, var3:{var3}, var4:{var4}\")"
   ]
  },
  {
   "cell_type": "code",
   "execution_count": null,
   "metadata": {},
   "outputs": [],
   "source": []
  }
 ],
 "metadata": {
  "kernelspec": {
   "display_name": "Python 3",
   "language": "python",
   "name": "python3"
  },
  "language_info": {
   "codemirror_mode": {
    "name": "ipython",
    "version": 3
   },
   "file_extension": ".py",
   "mimetype": "text/x-python",
   "name": "python",
   "nbconvert_exporter": "python",
   "pygments_lexer": "ipython3",
   "version": "3.7.4"
  }
 },
 "nbformat": 4,
 "nbformat_minor": 2
}
