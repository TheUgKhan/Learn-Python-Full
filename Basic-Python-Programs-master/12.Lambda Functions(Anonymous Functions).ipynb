{
 "cells": [
  {
   "cell_type": "markdown",
   "metadata": {},
   "source": [
    "# Python Anonymous/Lambda Functions\n",
    "<ul>\n",
    "    <li>In Python, anonymous function is a function that is defined without a name.</li>\n",
    "    <li>Normal functions are defined using the def keyword in Python. </li>\n",
    "    <li>Anonymous functions are defined using the lambda keyword.</li>\n",
    "    <li>Hence, anonymous functions are also called lambda functions.</li>\n",
    "</ul>\n",
    "\n",
    "<h3> Syntax </h3>\n",
    "\n",
    "\n",
    "\n",
    "\n",
    "                  lambda arguments: expression \n",
    "\n",
    "\n",
    "Lambda functions can have any number of arguments but only one expression. The expression is evaluated and returned. Lambda functions can be used wherever function objects are required."
   ]
  },
  {
   "cell_type": "code",
   "execution_count": 1,
   "metadata": {},
   "outputs": [
    {
     "name": "stdout",
     "output_type": "stream",
     "text": [
      "25\n"
     ]
    }
   ],
   "source": [
    "#Lets create a normal function to square a number\n",
    "def square(x):\n",
    "    return x*x\n",
    "\n",
    "sq = square(5)\n",
    "print(sq)"
   ]
  },
  {
   "cell_type": "code",
   "execution_count": 3,
   "metadata": {},
   "outputs": [
    {
     "name": "stdout",
     "output_type": "stream",
     "text": [
      "25\n"
     ]
    }
   ],
   "source": [
    "#Lets create it using lambda function\n",
    "\n",
    "sq = lambda x : x*x\n",
    "\n",
    "sq_num = sq(5)\n",
    "print(sq_num)"
   ]
  },
  {
   "cell_type": "markdown",
   "metadata": {},
   "source": [
    "# Another Example"
   ]
  },
  {
   "cell_type": "code",
   "execution_count": 4,
   "metadata": {},
   "outputs": [
    {
     "name": "stdout",
     "output_type": "stream",
     "text": [
      "110\n"
     ]
    }
   ],
   "source": [
    "#Getting two numbers and summing them up\n",
    "\n",
    "#Defining the lambda function\n",
    "sum = lambda x , y : x+y\n",
    "\n",
    "#Caling the function\n",
    "sum_Of = sum(10,100)\n",
    "\n",
    "print(sum_Of)"
   ]
  },
  {
   "cell_type": "markdown",
   "metadata": {},
   "source": [
    "# Use of lambda function in Python\n",
    "\n",
    "We use lambda functions when we require a nameless function for a short period of time.\n",
    "\n",
    "In Python, we generally use it as an argument to a higher-order function (a function that takes in other functions as arguments).\n",
    "\n",
    "Lambda functions are used along with built-in functions like filter(), map() etc."
   ]
  },
  {
   "cell_type": "markdown",
   "metadata": {},
   "source": [
    "# Example of Using lambdas in the filter()\n",
    "\n",
    "The filter() function in Python takes in a function and a list as arguments.\n",
    "\n",
    "The function is called with all the items in the list and a new list is returned which contains items for which the function evaluats to True.\n",
    "\n",
    "Here is an example use of filter() function to filter out only even numbers from a list."
   ]
  },
  {
   "cell_type": "code",
   "execution_count": 6,
   "metadata": {},
   "outputs": [
    {
     "name": "stdout",
     "output_type": "stream",
     "text": [
      "[4, 6, 8, 12]\n"
     ]
    }
   ],
   "source": [
    "# Program to filter out only the even items from a list\n",
    "\n",
    "my_list = [1, 5, 4, 6, 8, 11, 3, 12]\n",
    "\n",
    "#Filtering even numbers from the list and storing it to the new list named new_list\n",
    "new_list = list(filter(lambda x: (x%2 == 0) , my_list))\n",
    "\n",
    "# Output: [4, 6, 8, 12]\n",
    "print(new_list)"
   ]
  },
  {
   "cell_type": "markdown",
   "metadata": {},
   "source": [
    "# Example use with map()\n",
    "\n",
    "The map() function in Python takes in a function and a list.\n",
    "\n",
    "The function is called with all the items in the list and a new list is returned which contains items returned by that function for each item.\n",
    "\n",
    "Here is an example use of map() function to double all the items in a list."
   ]
  },
  {
   "cell_type": "code",
   "execution_count": 13,
   "metadata": {},
   "outputs": [
    {
     "name": "stdout",
     "output_type": "stream",
     "text": [
      "[2, 10, 8, 12, 16, 22, 6, 24]\n",
      "[0, 0]\n",
      "[1, 1]\n",
      "[4, 8]\n",
      "[9, 27]\n",
      "[16, 64]\n",
      "[25, 125]\n",
      "[36, 216]\n",
      "[49, 343]\n",
      "[64, 512]\n",
      "[81, 729]\n"
     ]
    }
   ],
   "source": [
    "# Program to double each item in a list using map()\n",
    "\n",
    "my_list = [1, 5, 4, 6, 8, 11, 3, 12]\n",
    "\n",
    "new_list = list(map(lambda x: x * 2 , my_list))\n",
    "\n",
    "# Output: [2, 10, 8, 12, 16, 22, 6, 24]\n",
    "print(new_list)\n",
    "\n",
    "#Another example is\n",
    "def square(a):\n",
    "    return a*a\n",
    "def cube(a):\n",
    "    return a*a*a\n",
    "func = [square,cube]\n",
    "\n",
    "for i in range(10):\n",
    "    #Getting square and cube of first 10 numbers\n",
    "    val = list(map(lambda x:x(i) , func))\n",
    "    print(val)"
   ]
  },
  {
   "cell_type": "markdown",
   "metadata": {},
   "source": [
    "# Sorting list using normal function vs lambda function"
   ]
  },
  {
   "cell_type": "code",
   "execution_count": 9,
   "metadata": {},
   "outputs": [
    {
     "name": "stdout",
     "output_type": "stream",
     "text": [
      "[[1, 6], [9, 12], [52, 21], [23, 54]]\n"
     ]
    }
   ],
   "source": [
    "#Creating a list of list\n",
    "a = [\n",
    "    [23,54],\n",
    "    [52,21],\n",
    "    [1,6],\n",
    "    [9,12],\n",
    "]\n",
    "\n",
    "#One way to sort it is to create a normal function\n",
    "def list_first(a):\n",
    "    #Returns value at index 1 i.e. in this example 54,21,6,12 \n",
    "    return a[1]\n",
    "\n",
    "#function is called in sort() to sort list of list based on index=1 value\n",
    "a.sort(key=list_first)\n",
    "print(a)"
   ]
  },
  {
   "cell_type": "code",
   "execution_count": 10,
   "metadata": {},
   "outputs": [
    {
     "name": "stdout",
     "output_type": "stream",
     "text": [
      "[[1, 6], [9, 12], [52, 21], [23, 54]]\n"
     ]
    }
   ],
   "source": [
    "#Same thing can be done easily using lambda functions\n",
    "#Creating a list of list\n",
    "a = [\n",
    "    [23,54],\n",
    "    [52,21],\n",
    "    [1,6],\n",
    "    [9,12],\n",
    "]\n",
    "\n",
    "\n",
    "a.sort(key= lambda x:x[1])\n",
    "print(a)"
   ]
  },
  {
   "cell_type": "markdown",
   "metadata": {},
   "source": [
    "# Reduce(): \n",
    "\n",
    "<p>The <strong>reduce(fun,seq)</strong> function is used to<strong> apply a particular function passed in its argument to all of the list elements</strong> mentioned in the sequence passed along.This function is defined in &#8220;<strong>functools</strong>&#8221; module.</p>\n",
    "\n",
    "#  Working:\n",
    "\n",
    "<ul>\n",
    "<li>At first step, first two elements of sequence are picked and the result is obtained.</li>\n",
    "<li>Next step is to apply the same function to the previously attained result and the number just succeeding the second element and the result is again stored.</li>\n",
    "<li>This process continues till no more elements are left in the container.</li>\n",
    "<li>The final returned result is returned and printed on console.</li>"
   ]
  },
  {
   "cell_type": "code",
   "execution_count": 21,
   "metadata": {},
   "outputs": [
    {
     "name": "stdout",
     "output_type": "stream",
     "text": [
      "The sum of the list elements is : 25\n",
      "The maximum element of the list is : 8\n"
     ]
    }
   ],
   "source": [
    "from functools import reduce\n",
    "\n",
    "list1 = [1,3,5,6,8,2]\n",
    "\n",
    "# using reduce to compute sum of list \n",
    "print (\"The sum of the list elements is : \",end=\"\") \n",
    "print (reduce(lambda a,b : a+b , list1)) \n",
    "\n",
    "\n",
    "# using reduce to compute maximum element from list \n",
    "print (\"The maximum element of the list is : \",end=\"\") \n",
    "print (reduce(lambda a,b : a if a > b else b,list1)) "
   ]
  }
 ],
 "metadata": {
  "kernelspec": {
   "display_name": "Python 3",
   "language": "python",
   "name": "python3"
  },
  "language_info": {
   "codemirror_mode": {
    "name": "ipython",
    "version": 3
   },
   "file_extension": ".py",
   "mimetype": "text/x-python",
   "name": "python",
   "nbconvert_exporter": "python",
   "pygments_lexer": "ipython3",
   "version": "3.7.4"
  }
 },
 "nbformat": 4,
 "nbformat_minor": 2
}
