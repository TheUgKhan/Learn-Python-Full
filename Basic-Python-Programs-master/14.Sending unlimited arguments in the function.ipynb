{
 "cells": [
  {
   "cell_type": "markdown",
   "metadata": {},
   "source": [
    "# *args and **kwargs in python \n",
    "\n",
    "<p>First of all let me tell you that it is not necessary to write *args or **kwargs. <strong>Only the * (aesteric) is necessary. You could have also written *var and **vars.</strong> Writing *args and **kwargs is just a convention. So now lets take a look at *args first.</p>\n",
    "\n",
    "# Usage of **kwargs\n",
    "**kwargs allows you to pass keyworded variable length of arguments to a function. You should use **kwargs if you want to handle named arguments in a function. Here is an example to get you going with it:"
   ]
  },
  {
   "cell_type": "code",
   "execution_count": 4,
   "metadata": {},
   "outputs": [
    {
     "name": "stdout",
     "output_type": "stream",
     "text": [
      "name1 = Usman\n",
      "name2 = ksjakd\n",
      "name3 = asjdhsd\n",
      "nam4 = ashdkw\n"
     ]
    }
   ],
   "source": [
    "def greet_me(**kwargs):\n",
    "    if kwargs is not None:\n",
    "        for key, value in kwargs.items():\n",
    "            print(key,\"=\",value)\n",
    " \n",
    "greet_me(name1=\"Usman\",name2=\"ksjakd\",name3=\"asjdhsd\",nam4=\"ashdkw\")\n"
   ]
  },
  {
   "cell_type": "markdown",
   "metadata": {},
   "source": [
    "# Usage of *args\n",
    "*args and **kwargs are mostly used in function definitions. *args and **kwargs allow you to pass a variable number of arguments to a function. What does variable mean here is that you do not know before hand that how many arguments can be passed to your function by the user so in this case you use these two keywords. *args is used to send a non-keyworded variable length argument list to the function. Here’s an example to help you get a clear idea:"
   ]
  },
  {
   "cell_type": "code",
   "execution_count": 7,
   "metadata": {},
   "outputs": [
    {
     "name": "stdout",
     "output_type": "stream",
     "text": [
      "first normal arg: java\n",
      "another arg through *argv : python\n",
      "another arg through *argv : eggs\n",
      "another arg through *argv : test\n"
     ]
    }
   ],
   "source": [
    "def test_var_args(f_arg, *argv):\n",
    "    print (\"first normal arg:\", f_arg)\n",
    "    for arg in argv:\n",
    "        print (\"another arg through *argv :\", arg)\n",
    "\n",
    "test_var_args('java','python','eggs','test')"
   ]
  },
  {
   "cell_type": "markdown",
   "metadata": {},
   "source": [
    "# Using both "
   ]
  },
  {
   "cell_type": "code",
   "execution_count": 9,
   "metadata": {},
   "outputs": [
    {
     "name": "stdout",
     "output_type": "stream",
     "text": [
      "Normal Argument:  Python\n",
      "Printing *args: \n",
      "['1', '2', '5443', '223', '122', '52', '5']\n",
      "Printing **kwargs\n",
      "dict = {1: 'A', 2: 'B', 3: 'C'}\n"
     ]
    }
   ],
   "source": [
    "def func(normal_arg , *arg , **kwarg):\n",
    "    print(\"Normal Argument: \" ,normal_arg)\n",
    "    \n",
    "    print(\"Printing *args: \")\n",
    "    for val in arg:\n",
    "        print(val)\n",
    "    \n",
    "    print(\"Printing **kwargs\")\n",
    "    for key,value in kwarg.items():\n",
    "        print(key,\"=\",value)\n",
    "\n",
    "dict1 = {\n",
    "    1: \"A\",\n",
    "    2: \"B\",\n",
    "    3: \"C\"\n",
    "}\n",
    "func(\"Python\" , ['1','2','5443','223','122','52','5'] , dict = dict1)"
   ]
  },
  {
   "cell_type": "markdown",
   "metadata": {},
   "source": [
    "<h1> <center> NOTE: </center></h1>\n",
    "\n",
    "<center>The order of normal argument , *args and **kwargs should be like:</center>\n",
    "\n",
    "<h3> <center>some_func(fargs,*args,**kwargs)</center></h3>"
   ]
  }
 ],
 "metadata": {
  "kernelspec": {
   "display_name": "Python 3",
   "language": "python",
   "name": "python3"
  },
  "language_info": {
   "codemirror_mode": {
    "name": "ipython",
    "version": 3
   },
   "file_extension": ".py",
   "mimetype": "text/x-python",
   "name": "python",
   "nbconvert_exporter": "python",
   "pygments_lexer": "ipython3",
   "version": "3.7.4"
  }
 },
 "nbformat": 4,
 "nbformat_minor": 2
}
