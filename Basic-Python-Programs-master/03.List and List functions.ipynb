{
 "cells": [
  {
   "cell_type": "markdown",
   "metadata": {},
   "source": [
    "# Python Collections (Arrays)\n",
    "\n",
    "There are four collection data types in the Python programming language:\n",
    "\n",
    "   <ul>\n",
    "    <li>List is a collection which is ordered and changeable. Allows duplicate members.</li>\n",
    "    <li>Tuple is a collection which is ordered and unchangeable. Allows duplicate members.</li>\n",
    "    <li>Set is a collection which is unordered and unindexed. No duplicate members.</li>\n",
    "    <li>Dictionary is a collection which is unordered, changeable and indexed. No duplicate members.</li>\n",
    "    </ul>"
   ]
  },
  {
   "cell_type": "markdown",
   "metadata": {},
   "source": [
    "# So we are going to see the List here\n"
   ]
  },
  {
   "cell_type": "code",
   "execution_count": 1,
   "metadata": {},
   "outputs": [],
   "source": [
    "languages = [\"C++\" , \"Python\" , \"C\" , \"Java\",\"C Sharp\" , \"JavaScript\" , \"HTML\", \"C++\"]"
   ]
  },
  {
   "cell_type": "code",
   "execution_count": 2,
   "metadata": {},
   "outputs": [
    {
     "name": "stdout",
     "output_type": "stream",
     "text": [
      "['C++', 'Python', 'C', 'Java', 'C Sharp', 'JavaScript', 'HTML', 'C++']\n"
     ]
    }
   ],
   "source": [
    "print(languages)"
   ]
  },
  {
   "cell_type": "code",
   "execution_count": 3,
   "metadata": {},
   "outputs": [
    {
     "name": "stdout",
     "output_type": "stream",
     "text": [
      "Python\n"
     ]
    }
   ],
   "source": [
    "#We can also use indexes from 0 to n to manipulate the lists\n",
    "print(languages[1])"
   ]
  },
  {
   "cell_type": "code",
   "execution_count": 4,
   "metadata": {},
   "outputs": [
    {
     "name": "stdout",
     "output_type": "stream",
     "text": [
      "['C++', 'Python', 'C', 'Java']\n"
     ]
    }
   ],
   "source": [
    "#We can use slicing we have learnt in previous Notebook as\n",
    "print(languages[0:4])"
   ]
  },
  {
   "cell_type": "code",
   "execution_count": 5,
   "metadata": {},
   "outputs": [
    {
     "name": "stdout",
     "output_type": "stream",
     "text": [
      "['C++', 'Python', 'C', 'Java', 'C Sharp']\n"
     ]
    }
   ],
   "source": [
    "print(languages[:5])"
   ]
  },
  {
   "cell_type": "code",
   "execution_count": 6,
   "metadata": {},
   "outputs": [
    {
     "name": "stdout",
     "output_type": "stream",
     "text": [
      "['C++', 'HTML', 'JavaScript', 'C Sharp', 'Java', 'C', 'Python', 'C++']\n"
     ]
    }
   ],
   "source": [
    "#Reverse slicing of list\n",
    "print(languages[::-1])"
   ]
  },
  {
   "cell_type": "code",
   "execution_count": 7,
   "metadata": {},
   "outputs": [
    {
     "name": "stdout",
     "output_type": "stream",
     "text": [
      "['C Sharp', 'JavaScript', 'HTML']\n"
     ]
    }
   ],
   "source": [
    "#As negative indexing start from last element and ends at first element\n",
    "#we can get data from C sharp to HTML as\n",
    "print(languages[-4:-1])"
   ]
  },
  {
   "cell_type": "code",
   "execution_count": 8,
   "metadata": {},
   "outputs": [],
   "source": [
    "#We can also create a list of numbers and sort or reverse it easily as\n",
    "num = [54,1,321,5543,0,4,6,12,75,9]"
   ]
  },
  {
   "cell_type": "code",
   "execution_count": 9,
   "metadata": {},
   "outputs": [
    {
     "name": "stdout",
     "output_type": "stream",
     "text": [
      "[0, 1, 4, 6, 9, 12, 54, 75, 321, 5543]\n"
     ]
    }
   ],
   "source": [
    "#Soring method\n",
    "num.sort()\n",
    "print(num)"
   ]
  },
  {
   "cell_type": "code",
   "execution_count": 10,
   "metadata": {},
   "outputs": [
    {
     "name": "stdout",
     "output_type": "stream",
     "text": [
      "[5543, 321, 75, 54, 12, 9, 6, 4, 1, 0]\n"
     ]
    }
   ],
   "source": [
    "#Reversing method\n",
    "num.reverse()\n",
    "print(num)"
   ]
  },
  {
   "cell_type": "code",
   "execution_count": 11,
   "metadata": {},
   "outputs": [
    {
     "name": "stdout",
     "output_type": "stream",
     "text": [
      "['C', 'C Sharp', 'C++', 'C++', 'HTML', 'Java', 'JavaScript', 'Python']\n"
     ]
    }
   ],
   "source": [
    "#language list can be sort alphabetically as\n",
    "languages.sort()\n",
    "print(languages)"
   ]
  },
  {
   "cell_type": "code",
   "execution_count": 12,
   "metadata": {},
   "outputs": [
    {
     "name": "stdout",
     "output_type": "stream",
     "text": [
      "['Python', 'JavaScript', 'Java', 'HTML', 'C++', 'C++', 'C Sharp', 'C']\n"
     ]
    }
   ],
   "source": [
    "#language listca be reversed as\n",
    "languages.reverse()\n",
    "print(languages)"
   ]
  },
  {
   "cell_type": "code",
   "execution_count": 13,
   "metadata": {},
   "outputs": [
    {
     "name": "stdout",
     "output_type": "stream",
     "text": [
      "[5543, 321, 75, 54, 12, 9, 6, 4, 1, 0, 43, 999]\n"
     ]
    }
   ],
   "source": [
    "#We ca append new elements in list as\n",
    "num.append(43)\n",
    "num.append(999)\n",
    "print(num)"
   ]
  },
  {
   "cell_type": "code",
   "execution_count": 14,
   "metadata": {},
   "outputs": [
    {
     "name": "stdout",
     "output_type": "stream",
     "text": [
      "['Python', 'JavaScript', 'Java', 'HTML', 'C++', 'C++', 'C Sharp', 'C', 'Swift']\n"
     ]
    }
   ],
   "source": [
    "#Same can be done with above example\n",
    "languages.append(\"Swift\")\n",
    "print(languages)"
   ]
  },
  {
   "cell_type": "code",
   "execution_count": 15,
   "metadata": {},
   "outputs": [
    {
     "name": "stdout",
     "output_type": "stream",
     "text": [
      "Before Insertion:  [5543, 321, 75, 54, 12, 9, 6, 4, 1, 0, 43, 999]\n",
      "After insertion:  [5543, 321, 2, 75, 54, 12, 9, 6, 4, 1, 0, 43, 999]\n"
     ]
    }
   ],
   "source": [
    "#If we want to add a value at some index , we can do it as\n",
    "print(\"Before Insertion: \" ,num)\n",
    "num.insert(2,2)\n",
    "print(\"After insertion: \" ,num)\n",
    "#It show that the value at that index is moved to the right to make space for this entry"
   ]
  },
  {
   "cell_type": "code",
   "execution_count": 16,
   "metadata": {},
   "outputs": [
    {
     "name": "stdout",
     "output_type": "stream",
     "text": [
      "Before Removal:  [5543, 321, 2, 75, 54, 12, 9, 6, 4, 1, 0, 43, 999]\n",
      "After Removal:  [2, 75, 54, 12, 9, 6, 4, 1, 0, 43, 999]\n"
     ]
    }
   ],
   "source": [
    "# Similarly we can remove element from list as\n",
    "\n",
    "print(\"Before Removal: \" ,num)\n",
    "num.remove(5543)\n",
    "num.remove(321)\n",
    "print(\"After Removal: \" ,num)"
   ]
  },
  {
   "cell_type": "code",
   "execution_count": 17,
   "metadata": {},
   "outputs": [
    {
     "name": "stdout",
     "output_type": "stream",
     "text": [
      "Before POP:  [2, 75, 54, 12, 9, 6, 4, 1, 0, 43, 999]\n",
      "After POP:  [2, 75, 54, 12, 9, 6, 4, 1, 0, 43]\n"
     ]
    }
   ],
   "source": [
    "#Similary we can remove the last added element like Stack \n",
    "print(\"Before POP: \" ,num)\n",
    "num.pop()\n",
    "print(\"After POP: \" ,num)"
   ]
  },
  {
   "cell_type": "markdown",
   "metadata": {},
   "source": [
    "# Visit for more:\n",
    "\n",
    "# <a href=\"https://docs.python.org/3.7/tutorial/datastructures.html\"> LISTS IN PYTHON </a>"
   ]
  }
 ],
 "metadata": {
  "kernelspec": {
   "display_name": "Python 3",
   "language": "python",
   "name": "python3"
  },
  "language_info": {
   "codemirror_mode": {
    "name": "ipython",
    "version": 3
   },
   "file_extension": ".py",
   "mimetype": "text/x-python",
   "name": "python",
   "nbconvert_exporter": "python",
   "pygments_lexer": "ipython3",
   "version": "3.7.4"
  }
 },
 "nbformat": 4,
 "nbformat_minor": 2
}
