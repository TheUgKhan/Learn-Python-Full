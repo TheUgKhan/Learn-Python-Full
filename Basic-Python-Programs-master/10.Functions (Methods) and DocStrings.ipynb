{
 "cells": [
  {
   "cell_type": "markdown",
   "metadata": {},
   "source": [
    "# Functions vs Methods\n",
    "\n",
    "<p><b>Functions are the heart of the Programming paradigm called Functional Programming</b></p>\n",
    "<ul>\n",
    "    <li>A function is a block of code to carry out a specific task, will contain its own scope and is called by name.</li>\n",
    "    <li>All functions may contain zero(no) arguments or more than one arguments.</li>\n",
    "    <li>  On exit, a function can or can not return one or more values.</li>\n",
    "    <li></li>\n",
    "    <li></li>\n",
    "</ul>\n",
    "<p>\n",
    "<b>\n",
    "    A method in python is somewhat similar to a function, except it is associated with object/classes. Methods in python are very similar to functions except for two major differences.\n",
    "</b>\n",
    "</p>\n",
    "<ul>\n",
    "    <li>The method is implicitly used for an object for which it is called.</li>\n",
    "\n",
    "   <li> The method is accessible to data that is contained within the class.</li>\n",
    "   <li>We will discuss it in upcoming notebook of classes and objects</li>\n",
    "</ul>\n",
    "\n",
    "<p><b>Syntax for creating a function is \n",
    "    \n",
    "    def function_name(arguments):\n",
    "        Statement1\n",
    "        Statement2\n",
    "        ....\n",
    "    \n",
    "</b></p>\n",
    "<ul><li>Arguments are just the fancy name for the values that we want to send to the function for some task</li></ul>"
   ]
  },
  {
   "cell_type": "markdown",
   "metadata": {},
   "source": [
    "# Defining the function"
   ]
  },
  {
   "cell_type": "code",
   "execution_count": 5,
   "metadata": {},
   "outputs": [],
   "source": [
    "#It is just defintion of the function, it takes no space in the running memory if the program runs\n",
    "#Memory is allocated to this function when this function is called in any piece of the code\n",
    "def add(a , b):\n",
    "    \"\"\"\n",
    "    This function takes two arguments and add them whenever called with 2 values\n",
    "    \"\"\"\n",
    "    sum = a+b\n",
    "    print(\"Sum: \",sum)"
   ]
  },
  {
   "cell_type": "markdown",
   "metadata": {},
   "source": [
    "# Calling the Function"
   ]
  },
  {
   "cell_type": "code",
   "execution_count": 8,
   "metadata": {},
   "outputs": [
    {
     "name": "stdout",
     "output_type": "stream",
     "text": [
      "Sum:  6\n",
      "Sum:  46\n",
      "Sum:  319\n",
      "\n",
      "    This function takes two arguments and add them whenever called with 2 values\n",
      "    \n"
     ]
    }
   ],
   "source": [
    "#We will send arguments or the values we want to add using add(a,b) function\n",
    "add(2,4)\n",
    "add(23,23)\n",
    "add(88,231)"
   ]
  },
  {
   "cell_type": "markdown",
   "metadata": {},
   "source": [
    "# Doc String in the function\n",
    "\n",
    "Doc String is just the simple string that is used for documentation purposes in the methods.\n",
    "\n",
    "<b>Syntax to print it is: \n",
    "    \n",
    "    function_name.__doc__ \n",
    "</b>"
   ]
  },
  {
   "cell_type": "code",
   "execution_count": 10,
   "metadata": {},
   "outputs": [
    {
     "name": "stdout",
     "output_type": "stream",
     "text": [
      "\n",
      "    This function takes two arguments and add them whenever called with 2 values\n",
      "    \n"
     ]
    }
   ],
   "source": [
    "#It will print the string that is written in the first line of the function definition in \"\"\" \"\"\"\n",
    "print(add.__doc__)"
   ]
  },
  {
   "cell_type": "markdown",
   "metadata": {},
   "source": [
    "# Returning Values from Functions\n",
    "<ul>\n",
    "    <li>\n",
    "As we saw earlier that methods can receive arguments\n",
    "    </li>\n",
    "    <li>\n",
    "Functions can also return values\n",
    "    </li>\n",
    "</ul>\n",
    "\n",
    "Lets see it through example:\n",
    "\n"
   ]
  },
  {
   "cell_type": "code",
   "execution_count": 12,
   "metadata": {},
   "outputs": [],
   "source": [
    "def add(a,b):\n",
    "    \"\"\"This function takes two arguments and add them whenever called with 2 values and return sum\"\"\"\n",
    "    sum = a + b\n",
    "    return sum      #Can also be done as return (a+b)"
   ]
  },
  {
   "cell_type": "code",
   "execution_count": 13,
   "metadata": {},
   "outputs": [
    {
     "data": {
      "text/plain": [
       "53"
      ]
     },
     "execution_count": 13,
     "metadata": {},
     "output_type": "execute_result"
    }
   ],
   "source": [
    "\n",
    "add(10,43)\n"
   ]
  },
  {
   "cell_type": "code",
   "execution_count": 14,
   "metadata": {},
   "outputs": [
    {
     "name": "stdout",
     "output_type": "stream",
     "text": [
      "53\n"
     ]
    }
   ],
   "source": [
    "#the above function returns sum of the values so we should create a variable to store that value as\n",
    "sum = add(10,43)\n",
    "\n",
    "print(sum)"
   ]
  },
  {
   "cell_type": "code",
   "execution_count": null,
   "metadata": {},
   "outputs": [],
   "source": []
  }
 ],
 "metadata": {
  "kernelspec": {
   "display_name": "Python 3",
   "language": "python",
   "name": "python3"
  },
  "language_info": {
   "codemirror_mode": {
    "name": "ipython",
    "version": 3
   },
   "file_extension": ".py",
   "mimetype": "text/x-python",
   "name": "python",
   "nbconvert_exporter": "python",
   "pygments_lexer": "ipython3",
   "version": "3.7.4"
  }
 },
 "nbformat": 4,
 "nbformat_minor": 2
}
