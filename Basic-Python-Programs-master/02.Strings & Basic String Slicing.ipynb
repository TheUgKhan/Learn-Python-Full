{
 "cells": [
  {
   "cell_type": "markdown",
   "metadata": {},
   "source": [
    "# Strings and String Slicing\n",
    "\n",
    "Simply the Collection of characters is called String."
   ]
  },
  {
   "cell_type": "code",
   "execution_count": 1,
   "metadata": {},
   "outputs": [],
   "source": [
    "myStr = \"This is Python String\""
   ]
  },
  {
   "cell_type": "code",
   "execution_count": 2,
   "metadata": {},
   "outputs": [
    {
     "name": "stdout",
     "output_type": "stream",
     "text": [
      "This is Python String\n"
     ]
    }
   ],
   "source": [
    "print(myStr)"
   ]
  },
  {
   "cell_type": "markdown",
   "metadata": {},
   "source": [
    "# String Indexes\n",
    "the above string has index and corresponding characters as:\n",
    "\n",
    "T => index 0\n",
    "\n",
    "h => index 1\n",
    "\n",
    "i => index 2\n",
    "\n",
    "s => index 3\n",
    "\n",
    "''=> index 4\n",
    "\n",
    "i => index 5\n",
    "\n",
    "and so on"
   ]
  },
  {
   "cell_type": "code",
   "execution_count": 5,
   "metadata": {},
   "outputs": [
    {
     "name": "stdout",
     "output_type": "stream",
     "text": [
      "i\n"
     ]
    }
   ],
   "source": [
    "#We can also print a certain character\n",
    "print(myStr[5])"
   ]
  },
  {
   "cell_type": "code",
   "execution_count": 7,
   "metadata": {},
   "outputs": [
    {
     "name": "stdout",
     "output_type": "stream",
     "text": [
      "Thi\n"
     ]
    }
   ],
   "source": [
    "#We can print all character from start to 2nd index(upto 3)\n",
    "print(myStr[0:3])\n",
    "# [0:3] means that 3 will be excluded"
   ]
  },
  {
   "cell_type": "code",
   "execution_count": 8,
   "metadata": {},
   "outputs": [
    {
     "name": "stdout",
     "output_type": "stream",
     "text": [
      "21\n"
     ]
    }
   ],
   "source": [
    "#We can print the length of the string as\n",
    "print(len(myStr))"
   ]
  },
  {
   "cell_type": "code",
   "execution_count": 10,
   "metadata": {},
   "outputs": [
    {
     "name": "stdout",
     "output_type": "stream",
     "text": [
      "Ti\n"
     ]
    }
   ],
   "source": [
    "#We can also slice it like\n",
    "#We will skip one character and print from [0:4] as\n",
    "\n",
    "print(myStr[0:4:2])\n",
    "#[0:4:2] Here 0:4 tells the range and 2 tells that we want every second element(skip 1 and 3)"
   ]
  },
  {
   "cell_type": "code",
   "execution_count": 11,
   "metadata": {},
   "outputs": [
    {
     "name": "stdout",
     "output_type": "stream",
     "text": [
      "This is Python String\n"
     ]
    }
   ],
   "source": [
    "#We can also slice to get the whole string\n",
    "print(myStr[0:])"
   ]
  },
  {
   "cell_type": "code",
   "execution_count": 12,
   "metadata": {},
   "outputs": [
    {
     "name": "stdout",
     "output_type": "stream",
     "text": [
      "This \n"
     ]
    }
   ],
   "source": [
    "#we can slice whole string from some index to the last\n",
    "print(myStr[:5])"
   ]
  },
  {
   "cell_type": "code",
   "execution_count": 13,
   "metadata": {},
   "outputs": [
    {
     "name": "stdout",
     "output_type": "stream",
     "text": [
      "Ti sPto tig\n"
     ]
    }
   ],
   "source": [
    "#We can also slice the whole string by skipping one as we discussed above\n",
    "print(myStr[0::2])"
   ]
  },
  {
   "cell_type": "code",
   "execution_count": 14,
   "metadata": {},
   "outputs": [
    {
     "name": "stdout",
     "output_type": "stream",
     "text": [
      "This is Python String\n"
     ]
    }
   ],
   "source": [
    "#Whole string can also be sliced as\n",
    "print(myStr[::])"
   ]
  },
  {
   "cell_type": "code",
   "execution_count": 23,
   "metadata": {},
   "outputs": [
    {
     "name": "stdout",
     "output_type": "stream",
     "text": [
      "ng\n"
     ]
    }
   ],
   "source": [
    "#As indexing starts from 0 to n from left to right of the string\n",
    "#In similar way the index starts from -1 to -n from right to left\n",
    "#So we can get the last two characters as\n",
    "print(myStr[-2:])"
   ]
  },
  {
   "cell_type": "code",
   "execution_count": 25,
   "metadata": {},
   "outputs": [
    {
     "name": "stdout",
     "output_type": "stream",
     "text": [
      "gnirtS nohtyP si sihT\n"
     ]
    }
   ],
   "source": [
    "#so we can reverse the sliced string as\n",
    "print(myStr[::-1])"
   ]
  },
  {
   "cell_type": "code",
   "execution_count": 32,
   "metadata": {},
   "outputs": [
    {
     "name": "stdout",
     "output_type": "stream",
     "text": [
      "False\n"
     ]
    }
   ],
   "source": [
    "#We can check it for alphaNumeric or not\n",
    "#The isalpha() methods returns “True” \n",
    "#if all characters in the string are alphabets, Otherwise, It returns “False”.\n",
    "print(myStr.isalpha())\n",
    "#it will return false because string contains spaces"
   ]
  },
  {
   "cell_type": "code",
   "execution_count": 34,
   "metadata": {},
   "outputs": [
    {
     "name": "stdout",
     "output_type": "stream",
     "text": [
      "False\n"
     ]
    }
   ],
   "source": [
    "#Python String class has a method called isalnum() \n",
    "#which can be called on a string and tells us if the string consists only of alphanumerics or not. \n",
    "print(myStr.isalnum())"
   ]
  },
  {
   "cell_type": "markdown",
   "metadata": {},
   "source": [
    "# Visit for more:\n",
    "\n",
    "# <a href=\"https://docs.python.org/2.3/whatsnew/section-slices.html\"> PYTHON SLICING </a>"
   ]
  }
 ],
 "metadata": {
  "kernelspec": {
   "display_name": "Python 3",
   "language": "python",
   "name": "python3"
  },
  "language_info": {
   "codemirror_mode": {
    "name": "ipython",
    "version": 3
   },
   "file_extension": ".py",
   "mimetype": "text/x-python",
   "name": "python",
   "nbconvert_exporter": "python",
   "pygments_lexer": "ipython3",
   "version": "3.7.4"
  }
 },
 "nbformat": 4,
 "nbformat_minor": 2
}
