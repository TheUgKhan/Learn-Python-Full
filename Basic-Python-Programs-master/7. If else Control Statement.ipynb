{
 "cells": [
  {
   "cell_type": "markdown",
   "metadata": {},
   "source": [
    "# If-else or If elif elif else\n",
    "\n",
    "These are statements that are used whenever we are doing some kind of decisions in statements.\n",
    "\n",
    "As we know that Program is set of instructions that are executed line by line when a program runs.\n",
    "\n",
    "So if we want certain lines to be executed only when a certain condition is True, we can give that condition in If block "
   ]
  },
  {
   "cell_type": "code",
   "execution_count": 2,
   "metadata": {},
   "outputs": [
    {
     "name": "stdout",
     "output_type": "stream",
     "text": [
      "Enter first number:1\n",
      "Enter second number:2\n",
      "2 is greater than 1\n"
     ]
    }
   ],
   "source": [
    "# Taking Input from User\n",
    "\n",
    "a = input(\"Enter first number:\")\n",
    "b = input(\"Enter second number:\")\n",
    "# When we get input from user it is a string\n",
    "#So we have to typeCast it into integer to perform integer functions(if needed)\n",
    "\n",
    "#If the first num is greater than second\n",
    "if int(a) > int(b):\n",
    "    print(a,\"is greater than\",b)\n",
    "#Otherwise first num would be less than or equal to the second num\n",
    "else:\n",
    "    #if first num is less than second\n",
    "    if int(a) < int(b):\n",
    "        print(b,\"is greater than\",a)\n",
    "    #otherwise it will be equal\n",
    "    else:\n",
    "        print(a,\"is equal to\",b)"
   ]
  },
  {
   "cell_type": "markdown",
   "metadata": {},
   "source": [
    "# Effective/Faster way to create above program"
   ]
  },
  {
   "cell_type": "code",
   "execution_count": 3,
   "metadata": {},
   "outputs": [
    {
     "name": "stdout",
     "output_type": "stream",
     "text": [
      "Enter first number:2\n",
      "Enter second number:2\n",
      "2 is equal to 2\n"
     ]
    }
   ],
   "source": [
    "# Taking Input from User\n",
    "#And type casting into integer\n",
    "#Because When we get input from user it is a string\n",
    "#So we have to typeCast it into integer to perform integer functions(if needed)\n",
    "\n",
    "a = int(input(\"Enter first number:\"))\n",
    "b = int(input(\"Enter second number:\"))\n",
    "\n",
    "#If the first num is greater than second\n",
    "if a > b:\n",
    "    print(a,\"is greater than\",b)\n",
    "#else if its less than b\n",
    "elif a < b:\n",
    "    print(b,\"is greater than\",a)\n",
    "#otherwise it will be equal\n",
    "else:\n",
    "    print(a,\"is equal to\",b)"
   ]
  },
  {
   "cell_type": "code",
   "execution_count": 9,
   "metadata": {},
   "outputs": [
    {
     "name": "stdout",
     "output_type": "stream",
     "text": [
      "5 is in the list\n"
     ]
    }
   ],
   "source": [
    "#We can also check elements using If else\n",
    "list1 = [1,5,7,9,0]\n",
    "\n",
    "if 5 in list1:\n",
    "    print(\"5 is in the list\")\n",
    "else:\n",
    "    print(\"5 is not in the list\")"
   ]
  },
  {
   "cell_type": "code",
   "execution_count": 8,
   "metadata": {},
   "outputs": [
    {
     "name": "stdout",
     "output_type": "stream",
     "text": [
      "Python is in list2\n"
     ]
    }
   ],
   "source": [
    "list2 = [\"C++\",\"Java\",\"Python\"]\n",
    "\n",
    "if \"Python\" in list2:\n",
    "    print(\"Python is in list2\")\n",
    "else:\n",
    "    print(\"Python is not in the list\")"
   ]
  },
  {
   "cell_type": "markdown",
   "metadata": {},
   "source": [
    "# Understanding the Role of Spaces(Indentation) in python\n",
    "\n",
    "In other programming languages like C or C++ , whenever we want to create a block of code in a body we use {} to do it\n",
    "Like in C++:\n",
    "\n",
    "if(a>b){\n",
    "\n",
    "Do this\n",
    "\n",
    "then this\n",
    "\n",
    "then this\n",
    "\n",
    "....\n",
    "\n",
    "}\n",
    "\n",
    "else{\n",
    "\n",
    "do this \n",
    "\n",
    "do this\n",
    "\n",
    "this\n",
    "\n",
    "this\n",
    "\n",
    ".....\n",
    "\n",
    "}\n",
    "\n",
    "Or simply if its single line, then we can leave the {} i.e.\n",
    "\n",
    "if(a>b)\n",
    "\n",
    "do this\n",
    "\n",
    "else\n",
    "\n",
    "do this\n",
    "\n",
    "# In python, we can't join set of statements in a body using {} , So\n",
    "\n",
    "<b> We will use indentation to do it i.e.\n",
    "\n",
    "Statement 1\n",
    " \n",
    "Statement 2\n",
    "\n",
    "Statement 3\n",
    "\n",
    "if condition:\n",
    "    \n",
    "    Statement 4\n",
    "    \n",
    "    Statement 5\n",
    "    \n",
    "    Statement 6\n",
    "\n",
    "else:\n",
    "    \n",
    "    Statement 7\n",
    "    \n",
    "    Statement 8\n",
    "    \n",
    "    Statement 9\n",
    "\n",
    "Statement 10\n",
    "\n",
    "Statement 11\n",
    "\n",
    "Now here the Statement 4 , 5 ,6 belongs to if statement i.e. Only executed when condition of if is true\n",
    "\n",
    "And statement 7,8,9 are part of else statement i.e. Only executed when if is False\n",
    "\n",
    "And all the other statements are execued independent of if else conditions\n",
    "</b>"
   ]
  }
 ],
 "metadata": {
  "kernelspec": {
   "display_name": "Python 3",
   "language": "python",
   "name": "python3"
  },
  "language_info": {
   "codemirror_mode": {
    "name": "ipython",
    "version": 3
   },
   "file_extension": ".py",
   "mimetype": "text/x-python",
   "name": "python",
   "nbconvert_exporter": "python",
   "pygments_lexer": "ipython3",
   "version": "3.7.4"
  }
 },
 "nbformat": 4,
 "nbformat_minor": 2
}
