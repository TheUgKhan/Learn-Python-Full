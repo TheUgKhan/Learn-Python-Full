{
 "cells": [
  {
   "cell_type": "markdown",
   "metadata": {},
   "source": [
    "# Python Collections (Arrays)\n",
    "\n",
    "There are four collection data types in the Python programming language:\n",
    "\n",
    "   <ul>\n",
    "    <li>List is a collection which is ordered and changeable. Allows duplicate members.</li>\n",
    "    <li>Tuple is a collection which is ordered and unchangeable. Allows duplicate members.</li>\n",
    "    <li>Set is a collection which is unordered and unindexed. No duplicate members.</li>\n",
    "    <li>Dictionary is a collection which is unordered, changeable and indexed. No duplicate members.</li>\n",
    "    </ul>"
   ]
  },
  {
   "cell_type": "markdown",
   "metadata": {},
   "source": [
    "# SO lets move to the dicictionary \n",
    "\n",
    "We've seen so far that lists are created as : [] and Tuples are created as: ()\n",
    "\n",
    "Syntax of creating a dictionary is: {}"
   ]
  },
  {
   "cell_type": "code",
   "execution_count": 1,
   "metadata": {},
   "outputs": [],
   "source": [
    "dic1 = {}  #An empty dictionary"
   ]
  },
  {
   "cell_type": "code",
   "execution_count": 5,
   "metadata": {},
   "outputs": [],
   "source": [
    "#Dicitionary contains key:value pairs\n",
    "dic2 = {\n",
    "    1 : \"One\",\n",
    "    2 : \"Two\",\n",
    "    3: \"Three\",\n",
    "    4: \"Four\",\n",
    "    5: \"five\",\n",
    "    6: \"Six\",\n",
    "    7:\"Seven\",\n",
    "    8:\"Eight\",\n",
    "    9:\"Nine\"\n",
    "}"
   ]
  },
  {
   "cell_type": "markdown",
   "metadata": {},
   "source": [
    "# Accessing elements"
   ]
  },
  {
   "cell_type": "code",
   "execution_count": 10,
   "metadata": {},
   "outputs": [
    {
     "name": "stdout",
     "output_type": "stream",
     "text": [
      "One\n"
     ]
    }
   ],
   "source": [
    "print(dic2[1])   #prints what value the key=1 refers to i.e 1: \"One\""
   ]
  },
  {
   "cell_type": "markdown",
   "metadata": {},
   "source": [
    "# Insering a new element"
   ]
  },
  {
   "cell_type": "code",
   "execution_count": 11,
   "metadata": {},
   "outputs": [],
   "source": [
    "dic2[11] = \"Eleven\""
   ]
  },
  {
   "cell_type": "code",
   "execution_count": 12,
   "metadata": {},
   "outputs": [
    {
     "name": "stdout",
     "output_type": "stream",
     "text": [
      "Eleven\n"
     ]
    }
   ],
   "source": [
    "print(dic2[11])"
   ]
  },
  {
   "cell_type": "code",
   "execution_count": 13,
   "metadata": {},
   "outputs": [
    {
     "name": "stdout",
     "output_type": "stream",
     "text": [
      "{1: 'One', 2: 'Two', 3: 'Three', 4: 'Four', 5: 'five', 6: 'Six', 7: 'Seven', 8: 'Eight', 9: 'Nine', 11: 'Eleven'}\n"
     ]
    }
   ],
   "source": [
    "print(dic2)"
   ]
  },
  {
   "cell_type": "markdown",
   "metadata": {},
   "source": [
    "# Deleting an element"
   ]
  },
  {
   "cell_type": "code",
   "execution_count": 15,
   "metadata": {},
   "outputs": [],
   "source": [
    "del dic2[11]"
   ]
  },
  {
   "cell_type": "code",
   "execution_count": 17,
   "metadata": {},
   "outputs": [
    {
     "name": "stdout",
     "output_type": "stream",
     "text": [
      "{1: 'One', 2: 'Two', 3: 'Three', 4: 'Four', 5: 'five', 6: 'Six', 7: 'Seven', 8: 'Eight', 9: 'Nine'}\n"
     ]
    }
   ],
   "source": [
    "print(dic2)"
   ]
  },
  {
   "cell_type": "markdown",
   "metadata": {},
   "source": [
    "# Copying Elements from one dictionary to another"
   ]
  },
  {
   "cell_type": "code",
   "execution_count": 19,
   "metadata": {},
   "outputs": [],
   "source": [
    "d3 = {}\n",
    "d3 = dic2"
   ]
  },
  {
   "cell_type": "markdown",
   "metadata": {},
   "source": [
    "# Caution: \n",
    "A change in d3 can change dic2 in this kind of copy"
   ]
  },
  {
   "cell_type": "code",
   "execution_count": 20,
   "metadata": {},
   "outputs": [
    {
     "name": "stdout",
     "output_type": "stream",
     "text": [
      "{1: 'on', 2: 'Two', 3: 'Three', 4: 'Four', 5: 'five', 6: 'Six', 7: 'Seven', 8: 'Eight', 9: 'Nine'}\n"
     ]
    }
   ],
   "source": [
    "d3[1] = \"on\"\n",
    "print(dic2)"
   ]
  },
  {
   "cell_type": "markdown",
   "metadata": {},
   "source": [
    "# Solution:\n",
    "Creating a shallow copy by using .copy() method"
   ]
  },
  {
   "cell_type": "code",
   "execution_count": 22,
   "metadata": {},
   "outputs": [
    {
     "name": "stdout",
     "output_type": "stream",
     "text": [
      "{1: 'oneee', 2: 'Two', 3: 'Three', 4: 'Four', 5: 'five', 6: 'Six', 7: 'Seven', 8: 'Eight', 9: 'Nine'}\n",
      "{1: 'on', 2: 'Two', 3: 'Three', 4: 'Four', 5: 'five', 6: 'Six', 7: 'Seven', 8: 'Eight', 9: 'Nine'}\n"
     ]
    }
   ],
   "source": [
    "d4 = d3.copy()\n",
    "d4[1] = \"oneee\"\n",
    "print(d4)\n",
    "print(d3)"
   ]
  },
  {
   "cell_type": "markdown",
   "metadata": {},
   "source": [
    "# Creating dictionary of a dictionary\n"
   ]
  },
  {
   "cell_type": "code",
   "execution_count": 23,
   "metadata": {},
   "outputs": [],
   "source": [
    "d5 = {\n",
    "    \"Name\" : \"John\" ,\n",
    "    \"Age\" : 17 , \n",
    "    \"Address\": {\"Street\":\"34\",\"House\": 464}\n",
    "}"
   ]
  },
  {
   "cell_type": "code",
   "execution_count": 24,
   "metadata": {},
   "outputs": [
    {
     "name": "stdout",
     "output_type": "stream",
     "text": [
      "{'Name': 'John', 'Age': 17, 'Address': {'Street': '34', 'House': 464}}\n"
     ]
    }
   ],
   "source": [
    "print(d5)"
   ]
  },
  {
   "cell_type": "code",
   "execution_count": 26,
   "metadata": {},
   "outputs": [
    {
     "name": "stdout",
     "output_type": "stream",
     "text": [
      "John\n"
     ]
    }
   ],
   "source": [
    "print(d5[\"Name\"])"
   ]
  },
  {
   "cell_type": "code",
   "execution_count": 28,
   "metadata": {},
   "outputs": [
    {
     "name": "stdout",
     "output_type": "stream",
     "text": [
      "{'Street': '34', 'House': 464}\n"
     ]
    }
   ],
   "source": [
    "print(d5[\"Address\"])"
   ]
  },
  {
   "cell_type": "code",
   "execution_count": 29,
   "metadata": {},
   "outputs": [
    {
     "name": "stdout",
     "output_type": "stream",
     "text": [
      "34\n"
     ]
    }
   ],
   "source": [
    "print(d5[\"Address\"][\"Street\"])"
   ]
  },
  {
   "cell_type": "code",
   "execution_count": 30,
   "metadata": {},
   "outputs": [
    {
     "name": "stdout",
     "output_type": "stream",
     "text": [
      "464\n"
     ]
    }
   ],
   "source": [
    "print(d5[\"Address\"][\"House\"])"
   ]
  },
  {
   "cell_type": "markdown",
   "metadata": {},
   "source": [
    "# Printing All the keys or All the values"
   ]
  },
  {
   "cell_type": "code",
   "execution_count": 31,
   "metadata": {},
   "outputs": [
    {
     "name": "stdout",
     "output_type": "stream",
     "text": [
      "dict_keys(['Name', 'Age', 'Address'])\n"
     ]
    }
   ],
   "source": [
    "print(d5.keys())"
   ]
  },
  {
   "cell_type": "code",
   "execution_count": 32,
   "metadata": {},
   "outputs": [
    {
     "name": "stdout",
     "output_type": "stream",
     "text": [
      "dict_keys([1, 2, 3, 4, 5, 6, 7, 8, 9])\n"
     ]
    }
   ],
   "source": [
    "print(d3.keys())"
   ]
  },
  {
   "cell_type": "code",
   "execution_count": 35,
   "metadata": {},
   "outputs": [
    {
     "name": "stdout",
     "output_type": "stream",
     "text": [
      "dict_items([('Name', 'John'), ('Age', 17), ('Address', {'Street': '34', 'House': 464})])\n"
     ]
    }
   ],
   "source": [
    "#Prinitng key:value pair\n",
    "print(d5.items())"
   ]
  },
  {
   "cell_type": "code",
   "execution_count": 36,
   "metadata": {},
   "outputs": [
    {
     "name": "stdout",
     "output_type": "stream",
     "text": [
      "dict_items([(1, 'on'), (2, 'Two'), (3, 'Three'), (4, 'Four'), (5, 'five'), (6, 'Six'), (7, 'Seven'), (8, 'Eight'), (9, 'Nine')])\n"
     ]
    }
   ],
   "source": [
    "#Prinitng key:value pair\n",
    "print(d3.items())"
   ]
  },
  {
   "cell_type": "markdown",
   "metadata": {},
   "source": [
    "# Visit for more:\n",
    "\n",
    "# <a href=\"https://docs.python.org/3.7/tutorial/datastructures.html#dictionaries\"> Dictionary in Python </a>"
   ]
  }
 ],
 "metadata": {
  "kernelspec": {
   "display_name": "Python 3",
   "language": "python",
   "name": "python3"
  },
  "language_info": {
   "codemirror_mode": {
    "name": "ipython",
    "version": 3
   },
   "file_extension": ".py",
   "mimetype": "text/x-python",
   "name": "python",
   "nbconvert_exporter": "python",
   "pygments_lexer": "ipython3",
   "version": "3.7.4"
  }
 },
 "nbformat": 4,
 "nbformat_minor": 2
}
