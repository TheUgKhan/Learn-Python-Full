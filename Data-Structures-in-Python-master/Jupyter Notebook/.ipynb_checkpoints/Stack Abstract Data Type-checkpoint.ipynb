{
 "cells": [
  {
   "cell_type": "markdown",
   "metadata": {},
   "source": [
    "# Creating Class for StackADT\n",
    "This class contains a list as well as a pointer/variable named TOP that includes the index of lastly added element.Also there will be some methods to push , pop as well as print values out from Stack.\n",
    "\n",
    "So lets start it\n"
   ]
  },
  {
   "cell_type": "code",
   "execution_count": 1,
   "metadata": {},
   "outputs": [],
   "source": [
    "class StackADT:\n",
    "    # Constructor\n",
    "    def __init__(self):\n",
    "        # Empty list\n",
    "        self.array = []\n",
    "        # TOP index of the List\n",
    "        self.TOP = 0\n",
    "\n",
    "    # Method to Check whether List is empty or not\n",
    "    def isEmpty(self):\n",
    "        # if list is empty return true\n",
    "        if self.TOP <= 0:\n",
    "            return True\n",
    "        # if not empty return false\n",
    "        else:\n",
    "            return False\n",
    "\n",
    "    # Method to push(insert) and element to the stack\n",
    "    def push(self, x):\n",
    "        #Inserting value at given index i.e TOP\n",
    "        self.array.insert(self.TOP, x)\n",
    "        #Incrementing TOP to insert value on next Push call\n",
    "        self.TOP += 1\n",
    "\n",
    "    #Method to Pop(delete UpperMost value) from Stack\n",
    "    def pop(self):\n",
    "        #Check if Stack is not Empty\n",
    "        if not self.isEmpty():\n",
    "            #As TOP goes up after adding for next addition\n",
    "            #Decreasing it to 1 to point last added value\n",
    "            self.TOP -= 1\n",
    "            #Enumerating List to convert it into (index,value) pair\n",
    "            for index, value in enumerate(self.array):\n",
    "                #After decresing TOP , check the last Added Element\n",
    "                #If matched ,remove(POP) it and return from where it was called\n",
    "                if index == self.TOP:\n",
    "                    return value\n",
    "        #If list is empty print the message\n",
    "        else:\n",
    "            print(\"The Stack is Empty\")\n",
    "    \n",
    "    #Check the UpperMost Value on the Stack using Same Enumeration Trick\n",
    "    def Peek(self):\n",
    "        if not self.isEmpty():\n",
    "            #Enumerate list to (index,value) pair\n",
    "            for index,value in enumerate(self.array):\n",
    "                #Print value that matches with (TOP-1) index i.e. Last Added Value\n",
    "                if index == (self.TOP-1):\n",
    "                    print(f\"The value on top of the Stack is: {value}\")\n",
    "        else:\n",
    "            print(\"No item in the Stack\")\n",
    "    \n",
    "    #Printing List in reverse Order\n",
    "    #Reverse Order because \n",
    "    #We want to demonstrate that the lastly added element is at the beginning of array               \n",
    "    def printWholeList(self):\n",
    "        #Reversing using Slicing\n",
    "        #array[startRange : EndRange : order]\n",
    "        #Play with these parameters to learn more about it\n",
    "        list = self.array[::-1]\n",
    "        print(list)\n"
   ]
  },
  {
   "cell_type": "markdown",
   "metadata": {},
   "source": [
    "# Using what we've created so far\n",
    "We will create an object of StackADT class to play with it to check whether the functionalities are working fine or not.\n",
    "\n",
    "So let's do it\n"
   ]
  },
  {
   "cell_type": "code",
   "execution_count": 2,
   "metadata": {},
   "outputs": [
    {
     "name": "stdout",
     "output_type": "stream",
     "text": [
      "[5, 3, 2, 1]\n",
      "The value on top of the Stack is: 1\n"
     ]
    }
   ],
   "source": [
    "#Creating a StackADT Object s1\n",
    "s1 = StackADT()\n",
    "#Pushing Some values\n",
    "s1.push(1)\n",
    "s1.push(2)\n",
    "s1.push(3)\n",
    "s1.push(5)\n",
    "#Printing the whole list\n",
    "s1.printWholeList()\n",
    "s1.pop()\n",
    "s1.pop()\n",
    "s1.pop()\n",
    "#Priniting the TOP value on the Stack(Last Added)\n",
    "s1.Peek()         "
   ]
  },
  {
   "cell_type": "markdown",
   "metadata": {},
   "source": [
    "# Some Applications(Extensions)\n",
    "\n",
    "We can use our Stack to do bunch of tasks, Here we will only see two examples to grab further understanding of the Stack in Python i.e:\n",
    "\n",
    "1.Decimal To Binary Converter\n",
    "\n",
    "\n",
    "2.Parenthesis Checker"
   ]
  },
  {
   "cell_type": "markdown",
   "metadata": {},
   "source": [
    "# 1. Decimal to Binary Converter\n",
    "\n",
    " Converting a Number from Deciaml to Binary includes following steps:\n",
    " \n",
    " i. divide the number and store the remainder\n",
    " \n",
    " ii. repeat the step 1 until the number is greater than 0\n",
    " \n",
    " iii. After that , print the stored remainder in reverse order\n",
    " \n",
    " So, we can store remainder in Stack and in the last we can pop elements out\n",
    " to get our answer in binary.\n",
    " \n",
    " That's it.So let's create it"
   ]
  },
  {
   "cell_type": "code",
   "execution_count": 3,
   "metadata": {},
   "outputs": [],
   "source": [
    "#Method to convert Decimal to Binary\n",
    "def decimal2binary(dec_num):\n",
    "    #creating a Stack object\n",
    "    s = StackADT()\n",
    "    \n",
    "    #Repeating steps until number reaches near or equal to zero\n",
    "    while dec_num > 0:\n",
    "        #Getting remainder \n",
    "        remainder = dec_num % 2\n",
    "        #Pushing remainder to the Stack\n",
    "        s.push(remainder)\n",
    "        #Dividing again by 2 to go on\n",
    "        dec_num = dec_num//2\n",
    "\n",
    "    #Empty String to store the remainder we store in Stack so that we can return it\n",
    "    bin_num = \" \"\n",
    "    #Repeat until the Stack is empty\n",
    "    while not s.isEmpty():\n",
    "        #Popping the element one-by-one and storing in bin_num string\n",
    "        bin_num += str(s.pop())\n",
    "    \n",
    "    #Returning the string \n",
    "    return bin_num"
   ]
  },
  {
   "cell_type": "markdown",
   "metadata": {},
   "source": [
    "# Using our Decimal to Binary Function"
   ]
  },
  {
   "cell_type": "code",
   "execution_count": 4,
   "metadata": {},
   "outputs": [
    {
     "name": "stdout",
     "output_type": "stream",
     "text": [
      " 1110\n"
     ]
    }
   ],
   "source": [
    "print(decimal2binary(14))"
   ]
  },
  {
   "cell_type": "markdown",
   "metadata": {},
   "source": [
    "# 2.Checking the Parenthesis whether Balanced or not:\n",
    "\n",
    "Algorithm to check the balanced parenthesis is:\n",
    "\n",
    "i.   whenever it is an opening bracket, push it into the Stack\n",
    "\n",
    "ii.  If the input parenthesis is closing parenthesis then POP one element out of Stack\n",
    "\n",
    "iii. Compare the popped element with current closing bracket.If matched, it means they are balanced else they are not\n",
    "\n",
    "iv.  Repeat above three steps for each iteration\n",
    "\n",
    "# Example: \n",
    "    The input string is \"{[]}\" \n",
    "    At first index it's {\n",
    "    At second index its [\n",
    "    At third index its ]\n",
    "    At fourth index its }\n",
    "    So we will Push first two in the stack\n",
    "    For third index i.e \"]\" we will Pop the element Lastly Added i.e. \"[\"\n",
    "    So we will compare both i.e \"[\" and \"]\" matches\n",
    "    And so on\n",
    "\n"
   ]
  },
  {
   "cell_type": "code",
   "execution_count": 5,
   "metadata": {},
   "outputs": [],
   "source": [
    "#Method to Compare both Strings\n",
    "def is_match(par1 , par2):\n",
    "    if par1 == \"(\"  and par2 == \")\":\n",
    "        return True\n",
    "    elif par1 == \"[\" and par2 == \"]\":\n",
    "        return True\n",
    "    elif par1 == \"{\" and par2 == \"}\":\n",
    "        return True\n",
    "    else:\n",
    "        return False\n",
    "\n",
    "#Method to check Balanced Parenthesis\n",
    "def checkParenthesis(paren_string):\n",
    "    #Creating a Stack Object\n",
    "    s = StackADT()\n",
    "    #Creating a boolean to hold True/False\n",
    "    is_balanced = True\n",
    "    index = 0\n",
    "    \n",
    "    #Repeat until String is completed and Its balanced\n",
    "    while index < len(paren_string) and is_balanced:\n",
    "        #Getting it index by index\n",
    "        paren = paren_string[index]\n",
    "        #If its starting bracket Push in stack\n",
    "        if paren in \"([{\":\n",
    "            s.push(paren)\n",
    "        #If its ending bracket\n",
    "        else:\n",
    "            #Check whether the starting character is Closing bracket\n",
    "            if s.isEmpty():\n",
    "                is_balanced = False\n",
    "            else:\n",
    "                #Pop the element from Stack\n",
    "                top = s.pop()\n",
    "                #And match both\n",
    "                if not is_match(top , paren):\n",
    "                    is_balanced = False\n",
    "        #Jump to next index\n",
    "        index += 1\n",
    "    \n",
    "    #If every element is popped out and its still balanced, return True(string has balanced brackets)\n",
    "    if s.isEmpty() and is_balanced:\n",
    "        return True\n",
    "    else:\n",
    "        return False    \n",
    " "
   ]
  },
  {
   "cell_type": "markdown",
   "metadata": {},
   "source": [
    "# Using the Above Function"
   ]
  },
  {
   "cell_type": "code",
   "execution_count": null,
   "metadata": {},
   "outputs": [],
   "source": [
    "bracket = input(\"Enter A String:\") \n",
    "answer = checkParenthesis(bracket)\n",
    "\n",
    "if answer == True:\n",
    "    print(\"The Entered input has a balanced brackets\")\n",
    "else:\n",
    "    print(\"The Entered input has unbalanced brackets\")"
   ]
  },
  {
   "cell_type": "code",
   "execution_count": null,
   "metadata": {},
   "outputs": [],
   "source": []
  }
 ],
 "metadata": {
  "kernelspec": {
   "display_name": "Python 3",
   "language": "python",
   "name": "python3"
  },
  "language_info": {
   "codemirror_mode": {
    "name": "ipython",
    "version": 3
   },
   "file_extension": ".py",
   "mimetype": "text/x-python",
   "name": "python",
   "nbconvert_exporter": "python",
   "pygments_lexer": "ipython3",
   "version": "3.7.4"
  }
 },
 "nbformat": 4,
 "nbformat_minor": 2
}
