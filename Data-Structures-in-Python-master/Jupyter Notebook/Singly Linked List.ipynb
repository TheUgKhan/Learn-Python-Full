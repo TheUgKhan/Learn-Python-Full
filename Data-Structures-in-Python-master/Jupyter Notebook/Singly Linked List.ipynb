{
 "cells": [
  {
   "cell_type": "markdown",
   "metadata": {},
   "source": [
    "# Singly Linked List in Python\n",
    "In computer science, a linked list is a linear collection of data elements, whose order is not given by their physical placement in memory. Instead, each element points to the next. It is a data structure consisting of a collection of nodes which together represent a sequence. In its most basic form, each node contains: data, and a reference (in other words, a link) to the next node in the sequence. This structure allows for efficient insertion or removal of elements from any position in the sequence during iteration. More complex variants add additional links, allowing more efficient insertion or removal of nodes at arbitrary positions. A drawback of linked lists is that access time is linear (and difficult to pipeline). Faster access, such as random access, is not feasible. Arrays have better cache locality compared to linked lists. \n"
   ]
  },
  {
   "cell_type": "markdown",
   "metadata": {},
   "source": [
    "# Creating a Node\n",
    "\n",
    "It is a unit of Data with a Pointer to refer same type of object i.e. Node"
   ]
  },
  {
   "cell_type": "code",
   "execution_count": 4,
   "metadata": {},
   "outputs": [],
   "source": [
    "#Node that contains data and a Pointer to connect with same type of next block\n",
    "#Data can vary from application to application\n",
    "#We've chosen only one value as data for learning purposes\n",
    "class Node:\n",
    "    def __init__(self,value):\n",
    "        self.data = value\n",
    "        self.next = None"
   ]
  },
  {
   "cell_type": "markdown",
   "metadata": {},
   "source": [
    "# Creating Class\n",
    "\n",
    "So lets create the blueprint of what we are going to acheive and some of methods to traverse the LinkedList"
   ]
  },
  {
   "cell_type": "code",
   "execution_count": 2,
   "metadata": {},
   "outputs": [],
   "source": [
    "#Linked list class that contains functions for CRUD operations\n",
    "class LinkList:\n",
    "    #Constructor to initialize\n",
    "    def __init__(self):\n",
    "        self.head = None\n",
    "        self.tail = None\n",
    " \n",
    "    #Method to Add Element at end of last node\n",
    "    def insertAtLast(self, value):\n",
    "        #Creating a Node\n",
    "        newNode = Node(value)\n",
    "        #Checking if list is empty\n",
    "        if self.head == None:\n",
    "            #Setting head and tail to first element in empty linkedList\n",
    "            self.head = newNode\n",
    "            self.tail = newNode\n",
    "        #if list is not empty\n",
    "        else:\n",
    "            #Attach element(Node) to the next of tail\n",
    "            self.tail.next = newNode\n",
    "            #updaTe the tail to newly created node\n",
    "            self.tail = newNode\n",
    "            \n",
    "    #Method to Add Element At start of linked list\n",
    "    def insertAtStart(self,value):\n",
    "        newNode = Node(value)\n",
    "        #Checking if list is empty\n",
    "        if self.head == None:\n",
    "            #Setting head and tail to first element in empty linkedList\n",
    "            self.head = newNode\n",
    "            self.tail = newNode\n",
    "         #if list is not empty    \n",
    "        else:\n",
    "            #attaching next of new Node to the element that is attachd with head\n",
    "            newNode.next = self.head\n",
    "            #Setting head with new Node\n",
    "            self.head = newNode\n",
    "    \n",
    "    #Method to delete value from start of the linked list        \n",
    "    def deleteFromStart(self):\n",
    "        if self.head == None:\n",
    "            print(\"List is Empty\")\n",
    "        else:\n",
    "            curr = self.head\n",
    "            self.head = curr.next\n",
    "            curr.next = None\n",
    "            del curr \n",
    "            print(\"Value Successfully Deleted\")\n",
    "            \n",
    "    #Method to delete last Node from Linked List        \n",
    "    def deleteFromLast(self):\n",
    "        last = self.tail\n",
    "        if self.head == None:\n",
    "            print(\"List is Empty\")\n",
    "        else:\n",
    "            curr = self.head\n",
    "            while curr.next != self.tail:\n",
    "                curr = curr.next\n",
    "            curr.next = None\n",
    "            self.tail = curr\n",
    "            del last\n",
    "    \n",
    "    #Method to Search for a specific value\n",
    "    def searchNode(self , value):\n",
    "        if self.head == None:\n",
    "            return None \n",
    "        else:\n",
    "            curr = self.head\n",
    "            while curr != None:\n",
    "                if(curr.data == value):\n",
    "                    return curr\n",
    "                curr = curr.next\n",
    "            if curr.data != value:\n",
    "                return None\n",
    "            \n",
    "    #Method to delete any node containing a given value\n",
    "    def deleteGiven(self , delValue):\n",
    "        delNode = self.searchNode(delValue)\n",
    "                \n",
    "        if delNode == None:\n",
    "            print(\"Given Value Not value Found\")\n",
    "        elif delNode == self.head:\n",
    "            self.deleteFromStart()\n",
    "        elif delNode == self.tail:\n",
    "            self.deleteFromLast()\n",
    "        else:\n",
    "            curr = self.head\n",
    "            while curr.next != delNode:\n",
    "                curr = curr.next\n",
    "            curr.next = delNode.next\n",
    "            del delNode    \n",
    "    \n",
    "    #Method to print the linked list     \n",
    "    def printList(self):\n",
    "        curr = self.head\n",
    "        while curr != None:\n",
    "            print(curr.data)\n",
    "            curr = curr.next\n",
    "        \n",
    "        \n",
    "    "
   ]
  },
  {
   "cell_type": "markdown",
   "metadata": {},
   "source": [
    "# Using What We've Created So Far\n",
    "\n",
    "So we are going to create an object of linkedList class to explore its functionalities"
   ]
  },
  {
   "cell_type": "code",
   "execution_count": 3,
   "metadata": {},
   "outputs": [
    {
     "name": "stdout",
     "output_type": "stream",
     "text": [
      "20\n",
      "40\n",
      "60\n",
      "80\n",
      "90\n",
      "100\n",
      "20\n",
      "40\n",
      "60\n",
      "90\n",
      "100\n"
     ]
    }
   ],
   "source": [
    "#Creating linkedList objects\n",
    "first = LinkList()\n",
    "\n",
    "\n",
    "first.insertAtLast(20)\n",
    "first.insertAtLast(40)\n",
    "first.insertAtLast(60)\n",
    "first.insertAtLast(80)\n",
    "first.insertAtLast(90)\n",
    "first.insertAtLast(100)\n",
    "# first.insertAtStart(20)\n",
    "# first.insertAtStart(40)\n",
    "# first.insertAtStart(60)\n",
    "# first.insertAtStart(100)\n",
    "# first.insertAtStart(80)\n",
    "# first.printList()\n",
    "# first.deleteFromStart()\n",
    "# first.deleteFromLast()\n",
    "# first.deleteFromLast()\n",
    "# first.deleteFromStart()\n",
    "# first.deleteFromStart()\n",
    "# first.deleteFromStart()\n",
    "# first.deleteFromStart()\n",
    "# first.deleteFromStart()\n",
    "first.printList()\n",
    "first.deleteGiven(80)\n",
    "first.printList()"
   ]
  }
 ],
 "metadata": {
  "kernelspec": {
   "display_name": "Python 3",
   "language": "python",
   "name": "python3"
  },
  "language_info": {
   "codemirror_mode": {
    "name": "ipython",
    "version": 3
   },
   "file_extension": ".py",
   "mimetype": "text/x-python",
   "name": "python",
   "nbconvert_exporter": "python",
   "pygments_lexer": "ipython3",
   "version": "3.7.4"
  }
 },
 "nbformat": 4,
 "nbformat_minor": 2
}
