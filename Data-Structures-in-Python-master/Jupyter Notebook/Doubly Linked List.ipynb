{
 "cells": [
  {
   "cell_type": "markdown",
   "metadata": {},
   "source": [
    "# Doubly Linked List\n",
    "In computer science, a doubly linked list is a linked data structure that consists of a set of sequentially linked records called nodes. Each node contains three fields: two link fields (references to the previous and to the next node in the sequence of nodes) and one data field. The beginning and ending nodes' previous and next links, respectively, point to some kind of terminator, typically a sentinel node or null, to facilitate traversal of the list. If there is only one sentinel node, then the list is circularly linked via the sentinel node. It can be conceptualized as two singly linked lists formed from the same data items, but in opposite sequential orders. "
   ]
  },
  {
   "cell_type": "markdown",
   "metadata": {},
   "source": [
    "# Creating the Node\n",
    "\n",
    "It is the basic building block of the linked list with a next pointer to point next Node and previous pointer to point to the previous Node."
   ]
  },
  {
   "cell_type": "code",
   "execution_count": 1,
   "metadata": {},
   "outputs": [],
   "source": [
    "#Node that contains data and two pointers to point next and previous element(Node)\n",
    "class Node:\n",
    "    def __init__(self , value):\n",
    "        self.data = value\n",
    "        self.next = None\n",
    "        self.prev = None"
   ]
  },
  {
   "cell_type": "markdown",
   "metadata": {},
   "source": [
    "# Creating the Class\n",
    "\n",
    "So now lets create DList class and some methods to traverse , delete and insert elements in the list"
   ]
  },
  {
   "cell_type": "code",
   "execution_count": 2,
   "metadata": {},
   "outputs": [],
   "source": [
    "#Class that contains functions for Create Read Update and Delete(CRUD operations)\n",
    "class DList:\n",
    "    def __init__(self):\n",
    "        self.head = None\n",
    "        self.tail = None\n",
    "    \n",
    "    #Method to Add an element to the start of LinkedList\n",
    "    def insertAtStart(self , value):\n",
    "        newNode = Node(value)\n",
    "        if self.head == None:\n",
    "            self.head = newNode\n",
    "            self.tail = newNode\n",
    "        else:\n",
    "            newNode.next = self.head\n",
    "            self.head.prev = newNode\n",
    "            self.head = newNode\n",
    "        \n",
    "    #Method to add an element at end of LinkedList\n",
    "    def insertAtLast(self , value):\n",
    "        newNode = Node(value)\n",
    "        if self.head == None:\n",
    "            self.head = newNode\n",
    "            self.tail = newNode\n",
    "        else:\n",
    "            self.tail.next = newNode\n",
    "            newNode.prev = self.tail\n",
    "            self.tail = newNode\n",
    "    \n",
    "    #Method to Print Linked List in forward direction\n",
    "    def printForward(self):\n",
    "        curr = self.head\n",
    "        while curr != None:\n",
    "            print(curr.data)\n",
    "            curr = curr.next\n",
    "    \n",
    "    #Method to Print Linked List in backward Direction i.e. from tail to head        \n",
    "    def printBackward(self):\n",
    "        curr = self.tail\n",
    "        while curr != None:\n",
    "            print(curr.data)\n",
    "            curr = curr.prev\n",
    "    \n",
    "    #Method to delete first element(Node)\n",
    "    def DeleteFirst(self):\n",
    "        curr = self.head\n",
    "        self.head = curr.next\n",
    "        self.head.prev = None\n",
    "        del curr\n",
    "         \n",
    "    #Method to delete Last element(Node)\n",
    "    def DeleteLast(self):\n",
    "        curr = self.tail\n",
    "        self.tail = curr.prev\n",
    "        self.tail.next = None\n",
    "        del curr\n",
    "    \n",
    "    #Search Method to search Node containing value given in the argument\n",
    "    def findVal(self , value):\n",
    "        if self.head == None:\n",
    "            return None\n",
    "        else:\n",
    "            curr = self.head\n",
    "            while curr != None:\n",
    "                if(curr.data == value):\n",
    "                    return curr\n",
    "                curr = curr.next\n",
    "            if curr.data != value:\n",
    "                return None\n",
    "    \n",
    "    #Method to delete Node with given value\n",
    "    def DeleteNode(self , value):\n",
    "        delNode = self.findVal(value)\n",
    "        \n",
    "        if delNode == None:\n",
    "            print(\"No such value found\")\n",
    "        elif delNode == self.head:\n",
    "            self.DeleteFirst()\n",
    "        elif delNode == self.tail:\n",
    "            self.DeleteLast()\n",
    "        else: \n",
    "            par = delNode.prev\n",
    "            par.next = delNode.next\n",
    "            delNode.next.prev = par\n",
    "            del delNode"
   ]
  },
  {
   "cell_type": "markdown",
   "metadata": {},
   "source": [
    "# Using what we've created so far\n",
    "\n",
    "So now we are going to create the object of our class to explore the methods we've created so far"
   ]
  },
  {
   "cell_type": "code",
   "execution_count": 4,
   "metadata": {},
   "outputs": [
    {
     "name": "stdout",
     "output_type": "stream",
     "text": [
      "500\n",
      "600\n"
     ]
    }
   ],
   "source": [
    "#Creating List object\n",
    "list1 = DList()\n",
    "\n",
    "# list1.insertAtStart(100)\n",
    "# list1.insertAtStart(200)\n",
    "# list1.insertAtStart(300)\n",
    "# list1.insertAtStart(400)\n",
    "# list1.insertAtStart(500)\n",
    "# list1.insertAtStart(600)\n",
    "\n",
    "list1.insertAtLast(600)\n",
    "list1.insertAtLast(500)\n",
    "# list1.insertAtLast(400)\n",
    "# list1.insertAtLast(300)\n",
    "# list1.insertAtLast(200)\n",
    "# list1.insertAtLast(100)\n",
    "#list1.DeleteLast()\n",
    "#list1.DeleteFirst()\n",
    "# list1.DeleteNode(500)\n",
    "# print(\"Printing Forward\")\n",
    "# list1.printForward()\n",
    "# print(\"Printing Backward\")\n",
    "list1.printBackward()"
   ]
  },
  {
   "cell_type": "code",
   "execution_count": null,
   "metadata": {},
   "outputs": [],
   "source": []
  }
 ],
 "metadata": {
  "kernelspec": {
   "display_name": "Python 3",
   "language": "python",
   "name": "python3"
  },
  "language_info": {
   "codemirror_mode": {
    "name": "ipython",
    "version": 3
   },
   "file_extension": ".py",
   "mimetype": "text/x-python",
   "name": "python",
   "nbconvert_exporter": "python",
   "pygments_lexer": "ipython3",
   "version": "3.7.4"
  }
 },
 "nbformat": 4,
 "nbformat_minor": 2
}
